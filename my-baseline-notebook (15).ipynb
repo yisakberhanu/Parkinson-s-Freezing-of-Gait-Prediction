{
 "cells": [
  {
   "cell_type": "code",
   "execution_count": 1,
   "id": "1dc9c192",
   "metadata": {
    "_kg_hide-input": true,
    "_kg_hide-output": true,
    "execution": {
     "iopub.execute_input": "2023-05-11T12:54:18.615169Z",
     "iopub.status.busy": "2023-05-11T12:54:18.613894Z",
     "iopub.status.idle": "2023-05-11T12:54:42.541038Z",
     "shell.execute_reply": "2023-05-11T12:54:42.539421Z"
    },
    "papermill": {
     "duration": 23.943144,
     "end_time": "2023-05-11T12:54:42.544409",
     "exception": false,
     "start_time": "2023-05-11T12:54:18.601265",
     "status": "completed"
    },
    "tags": []
   },
   "outputs": [
    {
     "name": "stdout",
     "output_type": "stream",
     "text": [
      "Looking in links: file:///kaggle/input/time-series-tools\r\n",
      "Processing /kaggle/input/time-series-tools/tsflex-0.3.0-py3-none-any.whl\r\n",
      "Requirement already satisfied: numpy<2.0.0,>=1.21.5 in /opt/conda/lib/python3.7/site-packages (from tsflex) (1.21.6)\r\n",
      "Requirement already satisfied: multiprocess<0.71.0,>=0.70.12 in /opt/conda/lib/python3.7/site-packages (from tsflex) (0.70.14)\r\n",
      "Requirement already satisfied: pandas<2.0.0,>=1.3.5 in /opt/conda/lib/python3.7/site-packages (from tsflex) (1.3.5)\r\n",
      "Requirement already satisfied: tqdm<5.0.0,>=4.62.3 in /opt/conda/lib/python3.7/site-packages (from tsflex) (4.64.1)\r\n",
      "Requirement already satisfied: dill<0.4.0,>=0.3.4 in /opt/conda/lib/python3.7/site-packages (from tsflex) (0.3.6)\r\n",
      "Requirement already satisfied: python-dateutil>=2.7.3 in /opt/conda/lib/python3.7/site-packages (from pandas<2.0.0,>=1.3.5->tsflex) (2.8.2)\r\n",
      "Requirement already satisfied: pytz>=2017.3 in /opt/conda/lib/python3.7/site-packages (from pandas<2.0.0,>=1.3.5->tsflex) (2022.7.1)\r\n",
      "Requirement already satisfied: six>=1.5 in /opt/conda/lib/python3.7/site-packages (from python-dateutil>=2.7.3->pandas<2.0.0,>=1.3.5->tsflex) (1.16.0)\r\n",
      "Installing collected packages: tsflex\r\n",
      "Successfully installed tsflex-0.3.0\r\n",
      "\u001b[33mWARNING: Running pip as the 'root' user can result in broken permissions and conflicting behaviour with the system package manager. It is recommended to use a virtual environment instead: https://pip.pypa.io/warnings/venv\u001b[0m\u001b[33m\r\n",
      "\u001b[0mLooking in links: file:///kaggle/input/time-series-tools\r\n",
      "Processing /kaggle/input/time-series-tools/seglearn-1.2.5-py3-none-any.whl\r\n",
      "Requirement already satisfied: scipy in /opt/conda/lib/python3.7/site-packages (from seglearn) (1.7.3)\r\n",
      "Requirement already satisfied: scikit-learn>=0.21.3 in /opt/conda/lib/python3.7/site-packages (from seglearn) (1.0.2)\r\n",
      "Requirement already satisfied: numpy in /opt/conda/lib/python3.7/site-packages (from seglearn) (1.21.6)\r\n",
      "Requirement already satisfied: threadpoolctl>=2.0.0 in /opt/conda/lib/python3.7/site-packages (from scikit-learn>=0.21.3->seglearn) (3.1.0)\r\n",
      "Requirement already satisfied: joblib>=0.11 in /opt/conda/lib/python3.7/site-packages (from scikit-learn>=0.21.3->seglearn) (1.2.0)\r\n",
      "Installing collected packages: seglearn\r\n",
      "Successfully installed seglearn-1.2.5\r\n",
      "\u001b[33mWARNING: Running pip as the 'root' user can result in broken permissions and conflicting behaviour with the system package manager. It is recommended to use a virtual environment instead: https://pip.pypa.io/warnings/venv\u001b[0m\u001b[33m\r\n",
      "\u001b[0m"
     ]
    }
   ],
   "source": [
    "# Install tsflex and seglearn\n",
    "!pip install tsflex --no-index --find-links=file:///kaggle/input/time-series-tools\n",
    "!pip install seglearn --no-index --find-links=file:///kaggle/input/time-series-tools"
   ]
  },
  {
   "cell_type": "markdown",
   "id": "81cf2612",
   "metadata": {
    "papermill": {
     "duration": 0.009874,
     "end_time": "2023-05-11T12:54:42.564995",
     "exception": false,
     "start_time": "2023-05-11T12:54:42.555121",
     "status": "completed"
    },
    "tags": []
   },
   "source": [
    "# Data loading and feature extraction "
   ]
  },
  {
   "cell_type": "code",
   "execution_count": 2,
   "id": "3527f53b",
   "metadata": {
    "_cell_guid": "b1076dfc-b9ad-4769-8c92-a6c4dae69d19",
    "_uuid": "8f2839f25d086af736a60e9eeb907d3b93b6e0e5",
    "execution": {
     "iopub.execute_input": "2023-05-11T12:54:42.588304Z",
     "iopub.status.busy": "2023-05-11T12:54:42.586913Z",
     "iopub.status.idle": "2023-05-11T12:54:45.901412Z",
     "shell.execute_reply": "2023-05-11T12:54:45.900059Z"
    },
    "papermill": {
     "duration": 3.32921,
     "end_time": "2023-05-11T12:54:45.904169",
     "exception": false,
     "start_time": "2023-05-11T12:54:42.574959",
     "status": "completed"
    },
    "tags": []
   },
   "outputs": [
    {
     "data": {
      "text/html": [
       "<style type='text/css'>\n",
       ".datatable table.frame { margin-bottom: 0; }\n",
       ".datatable table.frame thead { border-bottom: none; }\n",
       ".datatable table.frame tr.coltypes td {  color: #FFFFFF;  line-height: 6px;  padding: 0 0.5em;}\n",
       ".datatable .bool    { background: #DDDD99; }\n",
       ".datatable .object  { background: #565656; }\n",
       ".datatable .int     { background: #5D9E5D; }\n",
       ".datatable .float   { background: #4040CC; }\n",
       ".datatable .str     { background: #CC4040; }\n",
       ".datatable .time    { background: #40CC40; }\n",
       ".datatable .row_index {  background: var(--jp-border-color3);  border-right: 1px solid var(--jp-border-color0);  color: var(--jp-ui-font-color3);  font-size: 9px;}\n",
       ".datatable .frame tbody td { text-align: left; }\n",
       ".datatable .frame tr.coltypes .row_index {  background: var(--jp-border-color0);}\n",
       ".datatable th:nth-child(2) { padding-left: 12px; }\n",
       ".datatable .hellipsis {  color: var(--jp-cell-editor-border-color);}\n",
       ".datatable .vellipsis {  background: var(--jp-layout-color0);  color: var(--jp-cell-editor-border-color);}\n",
       ".datatable .na {  color: var(--jp-cell-editor-border-color);  font-size: 80%;}\n",
       ".datatable .sp {  opacity: 0.25;}\n",
       ".datatable .footer { font-size: 9px; }\n",
       ".datatable .frame_dimensions {  background: var(--jp-border-color3);  border-top: 1px solid var(--jp-border-color0);  color: var(--jp-ui-font-color3);  display: inline-block;  opacity: 0.6;  padding: 1px 10px 1px 5px;}\n",
       "</style>\n"
      ],
      "text/plain": [
       "<IPython.core.display.HTML object>"
      ]
     },
     "metadata": {},
     "output_type": "display_data"
    }
   ],
   "source": [
    "import numpy as np\n",
    "import pandas as pd\n",
    "import matplotlib.pyplot as plt\n",
    "from tqdm.auto import tqdm\n",
    "from sklearn import *\n",
    "import glob\n",
    "import gc\n",
    "from sklearn.preprocessing import LabelEncoder, StandardScaler\n",
    "from sklearn.decomposition import PCA\n",
    "from seglearn.feature_functions import base_features, emg_features\n",
    "\n",
    "from tsflex.features import FeatureCollection, MultipleFeatureDescriptors\n",
    "from tsflex.features.integrations import seglearn_feature_dict_wrapper\n",
    "\n",
    "\n",
    "import pathlib\n",
    "import xgboost as xgb\n",
    "import lightgbm as lgb\n",
    "from sklearn.multioutput import MultiOutputRegressor\n",
    "from sklearn.metrics import mean_squared_error, r2_score\n",
    "from sklearn.base import clone\n",
    "from sklearn.model_selection import GroupKFold\n",
    "from sklearn.model_selection import RandomizedSearchCV, train_test_split\n",
    "from sklearn.model_selection import  StratifiedGroupKFold\n",
    "from scipy.stats import uniform, randint\n",
    "from sklearn.metrics import average_precision_score, make_scorer\n",
    "\n",
    "from scipy.signal import find_peaks, chirp, find_peaks, peak_widths\n",
    "\n",
    "import warnings\n",
    "warnings.filterwarnings('ignore')\n"
   ]
  },
  {
   "cell_type": "code",
   "execution_count": 3,
   "id": "6e8692b9",
   "metadata": {
    "execution": {
     "iopub.execute_input": "2023-05-11T12:54:45.928007Z",
     "iopub.status.busy": "2023-05-11T12:54:45.927604Z",
     "iopub.status.idle": "2023-05-11T12:54:45.932247Z",
     "shell.execute_reply": "2023-05-11T12:54:45.931335Z"
    },
    "papermill": {
     "duration": 0.019695,
     "end_time": "2023-05-11T12:54:45.934349",
     "exception": false,
     "start_time": "2023-05-11T12:54:45.914654",
     "status": "completed"
    },
    "tags": []
   },
   "outputs": [],
   "source": [
    "na=-11"
   ]
  },
  {
   "cell_type": "code",
   "execution_count": 4,
   "id": "4e95c487",
   "metadata": {
    "execution": {
     "iopub.execute_input": "2023-05-11T12:54:45.957182Z",
     "iopub.status.busy": "2023-05-11T12:54:45.956173Z",
     "iopub.status.idle": "2023-05-11T12:54:45.970321Z",
     "shell.execute_reply": "2023-05-11T12:54:45.969103Z"
    },
    "papermill": {
     "duration": 0.028269,
     "end_time": "2023-05-11T12:54:45.972919",
     "exception": false,
     "start_time": "2023-05-11T12:54:45.944650",
     "status": "completed"
    },
    "tags": []
   },
   "outputs": [],
   "source": [
    "# Reduce Memory Usage\n",
    "# reference : https://www.kaggle.com/code/arjanso/reducing-dataframe-memory-size-by-65 @ARJANGROEN\n",
    "\n",
    "def reduce_memory_usage(df):\n",
    "    \n",
    "    start_mem = df.memory_usage().sum() / 1024**2\n",
    "    print('Memory usage of dataframe is {:.2f} MB'.format(start_mem))\n",
    "    \n",
    "    for col in df.columns:\n",
    "        col_type = df[col].dtype.name\n",
    "        if ((col_type != 'datetime64[ns]') & (col_type != 'category')):\n",
    "            if (col_type != 'object'):\n",
    "                c_min = df[col].min()\n",
    "                c_max = df[col].max()\n",
    "\n",
    "                if str(col_type)[:3] == 'int':\n",
    "                    if c_min > np.iinfo(np.int8).min and c_max < np.iinfo(np.int8).max:\n",
    "                        df[col] = df[col].astype(np.int8)\n",
    "                    elif c_min > np.iinfo(np.int16).min and c_max < np.iinfo(np.int16).max:\n",
    "                        df[col] = df[col].astype(np.int16)\n",
    "                    elif c_min > np.iinfo(np.int32).min and c_max < np.iinfo(np.int32).max:\n",
    "                        df[col] = df[col].astype(np.int32)\n",
    "                    elif c_min > np.iinfo(np.int64).min and c_max < np.iinfo(np.int64).max:\n",
    "                        df[col] = df[col].astype(np.int64)\n",
    "\n",
    "                else:\n",
    "                    if c_min > np.finfo(np.float16).min and c_max < np.finfo(np.float16).max:\n",
    "                        df[col] = df[col].astype(np.float16)\n",
    "                    elif c_min > np.finfo(np.float32).min and c_max < np.finfo(np.float32).max:\n",
    "                        df[col] = df[col].astype(np.float32)\n",
    "                    else:\n",
    "                        pass\n",
    "            else:\n",
    "                df[col] = df[col].astype('category')\n",
    "    mem_usg = df.memory_usage().sum() / 1024**2 \n",
    "    print(\"Memory usage became: \",mem_usg,\" MB\")\n",
    "    \n",
    "    return df"
   ]
  },
  {
   "cell_type": "code",
   "execution_count": 5,
   "id": "3d3d2516",
   "metadata": {
    "execution": {
     "iopub.execute_input": "2023-05-11T12:54:45.995614Z",
     "iopub.status.busy": "2023-05-11T12:54:45.995144Z",
     "iopub.status.idle": "2023-05-11T12:54:46.426126Z",
     "shell.execute_reply": "2023-05-11T12:54:46.424879Z"
    },
    "papermill": {
     "duration": 0.445725,
     "end_time": "2023-05-11T12:54:46.429022",
     "exception": false,
     "start_time": "2023-05-11T12:54:45.983297",
     "status": "completed"
    },
    "tags": []
   },
   "outputs": [],
   "source": [
    "p = '/kaggle/input/tlvmc-parkinsons-freezing-gait-prediction/'\n",
    "\n",
    "train = glob.glob(p+'train/**/**')\n",
    "test = glob.glob(p+'test/**/**')\n",
    "unlabeled=glob.glob(p+'unlabeled/**')\n",
    "subjects = pd.read_csv(p+'subjects.csv')\n",
    "tasks = pd.read_csv(p+'tasks.csv')\n",
    "events = pd.read_csv(p+'events.csv')\n",
    "tasks = pd.read_csv(p+'tasks.csv')\n",
    "sub = pd.read_csv(p+'sample_submission.csv')\n",
    "\n",
    "tdcsfog_metadata=pd.read_csv('/kaggle/input/tlvmc-parkinsons-freezing-gait-prediction/tdcsfog_metadata.csv')\n",
    "defog_metadata=pd.read_csv('/kaggle/input/tlvmc-parkinsons-freezing-gait-prediction/defog_metadata.csv')\n",
    "daily_metadata=pd.read_csv('/kaggle/input/tlvmc-parkinsons-freezing-gait-prediction/daily_metadata.csv')\n",
    "tdcsfog_metadata['Module']='tdcsfog'\n",
    "defog_metadata['Module']='defog'\n",
    "daily_metadata['Module']='daily'\n",
    "metadata=pd.concat([tdcsfog_metadata,defog_metadata, daily_metadata])"
   ]
  },
  {
   "cell_type": "code",
   "execution_count": 6,
   "id": "ba62e624",
   "metadata": {
    "execution": {
     "iopub.execute_input": "2023-05-11T12:54:46.451710Z",
     "iopub.status.busy": "2023-05-11T12:54:46.451239Z",
     "iopub.status.idle": "2023-05-11T12:54:46.458803Z",
     "shell.execute_reply": "2023-05-11T12:54:46.457597Z"
    },
    "papermill": {
     "duration": 0.021929,
     "end_time": "2023-05-11T12:54:46.461353",
     "exception": false,
     "start_time": "2023-05-11T12:54:46.439424",
     "status": "completed"
    },
    "tags": []
   },
   "outputs": [
    {
     "data": {
      "text/plain": [
       "'unlabeled'"
      ]
     },
     "execution_count": 6,
     "metadata": {},
     "output_type": "execute_result"
    }
   ],
   "source": [
    "pathlib.Path(unlabeled[1]).parts[-2]"
   ]
  },
  {
   "cell_type": "code",
   "execution_count": 7,
   "id": "24b9974e",
   "metadata": {
    "execution": {
     "iopub.execute_input": "2023-05-11T12:54:46.484998Z",
     "iopub.status.busy": "2023-05-11T12:54:46.483748Z",
     "iopub.status.idle": "2023-05-11T12:54:46.501388Z",
     "shell.execute_reply": "2023-05-11T12:54:46.500415Z"
    },
    "papermill": {
     "duration": 0.032222,
     "end_time": "2023-05-11T12:54:46.504124",
     "exception": false,
     "start_time": "2023-05-11T12:54:46.471902",
     "status": "completed"
    },
    "tags": []
   },
   "outputs": [],
   "source": [
    "def encoder(file, file2=None, all_cols=False, cols=None, combined=False):\n",
    "    le=LabelEncoder()\n",
    "    cat_cols=cols\n",
    "    if all_cols:\n",
    "        cat_cols=file.select_dtypes('O').columns\n",
    "    if combined:\n",
    "        file['train']=1\n",
    "        file2['train']=0\n",
    "        file=pd.concat([file, file2])\n",
    "    for col in cat_cols:\n",
    "        if col not in ['Id', 'Subject']:\n",
    "            file[col]=le.fit_transform(np.array(file[col]).reshape(-1, 1))\n",
    "    if combined:\n",
    "        train, test=file[file['train']==1], file[file['train']==0]\n",
    "        return train[cols], test[cols]\n",
    "    else:\n",
    "        return file\n",
    "\n",
    "def get_columns(cols):\n",
    "    new_cols=[]\n",
    "    lst_suffix=['mean', 'sum', 'count', 'max', 'min', 'std']\n",
    "    for col in cols:\n",
    "        if col not in ['Id', 'Subject']:\n",
    "            for suffix in lst_suffix:\n",
    "               new_cols.append(col+f'_{suffix}')\n",
    "        else:\n",
    "            new_cols.append(col)\n",
    "    return new_cols\n",
    "        \n",
    "    \n",
    "\n",
    "def get_scaler(data, types):\n",
    "    if types=='std':\n",
    "        scaler=StandardScaler()\n",
    "        cols=data.select_dtypes('number').columns\n",
    "        for col in cols:\n",
    "            data[col]=scaler.fit_transform(np.array(data[col]).reshape(-1, 1))\n",
    "        return data\n",
    "            \n",
    "        \n",
    "    \n",
    "def label_cluster(data, n_clusters=10):\n",
    "    data=data.select_dtypes('number')\n",
    "    data=get_scaler(data, 'std')\n",
    "    clustered=cluster.KMeans(n_clusters=n_clusters, random_state=3).fit_predict(data)\n",
    "    return clustered\n",
    "\n",
    "def get_pca(data1, data2=None, n_components=2, combined=False, transform=False):\n",
    "    if combined:\n",
    "        #data['train']=1\n",
    "        #data2['train']=0\n",
    "        data=pd.concat([data1, data2])\n",
    "        rows=data1.shape[0]\n",
    "        del data1, data2\n",
    "        gc.collect()\n",
    "    else:\n",
    "        data=data1\n",
    "    data=data.select_dtypes('number')\n",
    "    data=get_scaler(data, 'std')\n",
    "    model=PCA(n_components=n_components)\n",
    "    new_features=model.fit_transform(data)\n",
    "    var=model.explained_variance_ratio_\n",
    "    while sum(var)<.95:\n",
    "        n_components +=n_components+2\n",
    "        model=PCA(n_components=n_components)\n",
    "        model=model.fit(data)\n",
    "        var=model.explained_variance_ratio_\n",
    "    if transform:\n",
    "        return model\n",
    "    elif combined:\n",
    "        #train=new_features[:rows]\n",
    "        #test=new_features[rows:]\n",
    "        n_cols=n_components\n",
    "        del data\n",
    "        gc.collect()\n",
    "        print(sum(var), n_cols)\n",
    "        return n_cols, model\n",
    "    else:\n",
    "        print(var)\n",
    "        return data\n"
   ]
  },
  {
   "cell_type": "markdown",
   "id": "887fe9ea",
   "metadata": {
    "execution": {
     "iopub.execute_input": "2023-05-10T07:03:13.359480Z",
     "iopub.status.busy": "2023-05-10T07:03:13.358906Z",
     "iopub.status.idle": "2023-05-10T07:03:13.423884Z",
     "shell.execute_reply": "2023-05-10T07:03:13.422168Z",
     "shell.execute_reply.started": "2023-05-10T07:03:13.359430Z"
    },
    "papermill": {
     "duration": 0.011632,
     "end_time": "2023-05-11T12:54:46.529212",
     "exception": false,
     "start_time": "2023-05-11T12:54:46.517580",
     "status": "completed"
    },
    "tags": []
   },
   "source": [
    "events=encoder(events, all_cols=True)\n",
    "events['duration_events']=events['Completion']-events['Init']\n",
    "events_cols=get_columns(events.columns)\n",
    "events=events.groupby('Id').agg(['mean', 'sum', 'count', 'max', 'min', 'std']).reset_index().fillna(na)\n",
    "events.columns=events_cols\n",
    "events.head(3)"
   ]
  },
  {
   "cell_type": "markdown",
   "id": "46f84957",
   "metadata": {
    "execution": {
     "iopub.execute_input": "2023-05-10T07:03:13.426327Z",
     "iopub.status.busy": "2023-05-10T07:03:13.425902Z",
     "iopub.status.idle": "2023-05-10T07:03:13.481707Z",
     "shell.execute_reply": "2023-05-10T07:03:13.480392Z",
     "shell.execute_reply.started": "2023-05-10T07:03:13.426281Z"
    },
    "papermill": {
     "duration": 0.014003,
     "end_time": "2023-05-11T12:54:46.556039",
     "exception": false,
     "start_time": "2023-05-11T12:54:46.542036",
     "status": "completed"
    },
    "tags": []
   },
   "source": [
    "tasks['duration_task']=tasks['End']-tasks['Begin'] \n",
    "tasks=encoder(tasks, all_cols=True)\n",
    "tasks_cols=get_columns(tasks.columns)\n",
    "tasks=tasks.groupby('Id').agg(['mean', 'sum', 'count', 'max', 'min', 'std']).reset_index()\n",
    "tasks.columns=tasks_cols\n",
    "tasks.head(3)"
   ]
  },
  {
   "cell_type": "code",
   "execution_count": 8,
   "id": "d743cc4b",
   "metadata": {
    "execution": {
     "iopub.execute_input": "2023-05-11T12:54:46.582460Z",
     "iopub.status.busy": "2023-05-11T12:54:46.581910Z",
     "iopub.status.idle": "2023-05-11T12:54:47.458303Z",
     "shell.execute_reply": "2023-05-11T12:54:47.456942Z"
    },
    "papermill": {
     "duration": 0.89137,
     "end_time": "2023-05-11T12:54:47.461423",
     "exception": false,
     "start_time": "2023-05-11T12:54:46.570053",
     "status": "completed"
    },
    "tags": []
   },
   "outputs": [],
   "source": [
    "# https://www.kaggle.com/code/jazivxt/familiar-solvs\n",
    "tasks['Duration'] = tasks['End'] - tasks['Begin']\n",
    "tasks = pd.pivot_table(tasks, values=['Duration'], index=['Id'], columns=['Task'], aggfunc='sum', fill_value=0)\n",
    "tasks.columns = [c[-1] for c in tasks.columns]\n",
    "tasks = tasks.reset_index()\n",
    "tasks['t_kmeans'] = cluster.KMeans(n_clusters=10, random_state=3).fit_predict(tasks[tasks.columns[1:]])\n",
    "\n",
    "subjects = subjects.fillna(0).groupby('Subject').median()\n",
    "subjects = subjects.reset_index()\n",
    "# subjects.rename(columns={'Subject':'Id'}, inplace=True)\n",
    "subjects['s_kmeans'] = cluster.KMeans(n_clusters=10, random_state=3).fit_predict(subjects[subjects.columns[1:]])\n",
    "subjects=subjects.rename(columns={'Visit':'s_Visit','Age':'s_Age','YearsSinceDx':'s_YearsSinceDx','UPDRSIII_On':'s_UPDRSIII_On','UPDRSIII_Off':'s_UPDRSIII_Off','NFOGQ':'s_NFOGQ'})\n",
    "\n",
    "# display(tasks)\n",
    "# display(subjects)\n"
   ]
  },
  {
   "cell_type": "markdown",
   "id": "defb8228",
   "metadata": {
    "execution": {
     "iopub.execute_input": "2023-05-10T07:03:13.486997Z",
     "iopub.status.busy": "2023-05-10T07:03:13.486596Z",
     "iopub.status.idle": "2023-05-10T07:03:13.792059Z",
     "shell.execute_reply": "2023-05-10T07:03:13.790804Z",
     "shell.execute_reply.started": "2023-05-10T07:03:13.486961Z"
    },
    "papermill": {
     "duration": 0.010208,
     "end_time": "2023-05-11T12:54:47.482342",
     "exception": false,
     "start_time": "2023-05-11T12:54:47.472134",
     "status": "completed"
    },
    "tags": []
   },
   "source": [
    "subjects['NFOGQ/Visit']=subjects['NFOGQ']/subjects['Visit']\n",
    "subjects['diff_offon']=subjects['UPDRSIII_Off']-subjects['UPDRSIII_On']\n",
    "subjects['started_year']=subjects['Age']-subjects['YearsSinceDx']\n",
    "#subjects['rateof_fog']=subjects['NFOGQ']/subjects['YearsSinceDx']\n",
    "subjects['rateof_fog/age']=subjects['NFOGQ']/(subjects['YearsSinceDx']+subjects['Age'])\n",
    "subjects=encoder(subjects, all_cols=True)\n",
    "subjects_cols=get_columns(subjects.columns)\n",
    "subjects=subjects.groupby('Subject').agg(['mean', 'sum', 'count', 'max', 'min', 'std']).reset_index()\n",
    "subjects.columns=subjects_cols\n",
    "subjects=subjects.fillna(na)\n",
    "subjects=reduce_memory_usage(subjects)\n",
    "subjects.head(3)"
   ]
  },
  {
   "cell_type": "code",
   "execution_count": null,
   "id": "0e7d05c3",
   "metadata": {
    "papermill": {
     "duration": 0.010197,
     "end_time": "2023-05-11T12:54:47.502931",
     "exception": false,
     "start_time": "2023-05-11T12:54:47.492734",
     "status": "completed"
    },
    "tags": []
   },
   "outputs": [],
   "source": []
  },
  {
   "cell_type": "code",
   "execution_count": 9,
   "id": "7637f89f",
   "metadata": {
    "execution": {
     "iopub.execute_input": "2023-05-11T12:54:47.526533Z",
     "iopub.status.busy": "2023-05-11T12:54:47.525687Z",
     "iopub.status.idle": "2023-05-11T12:54:47.531378Z",
     "shell.execute_reply": "2023-05-11T12:54:47.530217Z"
    },
    "papermill": {
     "duration": 0.020736,
     "end_time": "2023-05-11T12:54:47.534142",
     "exception": false,
     "start_time": "2023-05-11T12:54:47.513406",
     "status": "completed"
    },
    "tags": []
   },
   "outputs": [],
   "source": [
    "#events['cluster_events']=label_cluster(events)\n",
    "#events[['events_pca1', 'events_pca2']]=get_pca(events)\n",
    "#selected_events=events[['Id','cluster_events', 'events_pca1', 'events_pca2']]\n",
    "\n",
    "#tasks['cluster_tasks']=label_cluster(tasks)\n",
    "#tasks[['tasks_pca1', 'tasks_pca2']]=get_pca(tasks)\n",
    "#selected_task=tasks[['Id','cluster_tasks', 'tasks_pca1', 'tasks_pca2']]\n",
    "\n",
    "#subjects['cluster_subjects']=label_cluster(subjects)\n",
    "#subjects[['subjects_pca1', 'subjects_pca2']]=get_pca(subjects)\n",
    "#selected_subjects=subjects[['Subject', 'cluster_subjects', 'subjects_pca1', 'subjects_pca2']]"
   ]
  },
  {
   "cell_type": "code",
   "execution_count": 10,
   "id": "508dcb3f",
   "metadata": {
    "_kg_hide-input": true,
    "execution": {
     "iopub.execute_input": "2023-05-11T12:54:47.558107Z",
     "iopub.status.busy": "2023-05-11T12:54:47.557655Z",
     "iopub.status.idle": "2023-05-11T12:54:47.573805Z",
     "shell.execute_reply": "2023-05-11T12:54:47.572621Z"
    },
    "papermill": {
     "duration": 0.03177,
     "end_time": "2023-05-11T12:54:47.576491",
     "exception": false,
     "start_time": "2023-05-11T12:54:47.544721",
     "status": "completed"
    },
    "tags": []
   },
   "outputs": [],
   "source": [
    "complex_featlist=['Visit','Test','Medication','s_Visit','s_Age','s_YearsSinceDx','s_UPDRSIII_On','s_UPDRSIII_Off','s_NFOGQ','s_kmeans']\n",
    "metadata_complex=metadata.merge(subjects,how='left',on='Subject').copy()\n",
    "metadata_complex['Medication']=metadata_complex['Medication'].factorize()[0]\n"
   ]
  },
  {
   "cell_type": "code",
   "execution_count": 11,
   "id": "803b18ee",
   "metadata": {
    "execution": {
     "iopub.execute_input": "2023-05-11T12:54:47.599729Z",
     "iopub.status.busy": "2023-05-11T12:54:47.599312Z",
     "iopub.status.idle": "2023-05-11T12:54:47.604115Z",
     "shell.execute_reply": "2023-05-11T12:54:47.603217Z"
    },
    "papermill": {
     "duration": 0.019093,
     "end_time": "2023-05-11T12:54:47.606189",
     "exception": false,
     "start_time": "2023-05-11T12:54:47.587096",
     "status": "completed"
    },
    "tags": []
   },
   "outputs": [],
   "source": [
    "meta_dict={'tdcsfog':1, 'defog':2, 'notype':3}"
   ]
  },
  {
   "cell_type": "markdown",
   "id": "d484508a",
   "metadata": {
    "papermill": {
     "duration": 0.010181,
     "end_time": "2023-05-11T12:54:47.626855",
     "exception": false,
     "start_time": "2023-05-11T12:54:47.616674",
     "status": "completed"
    },
    "tags": []
   },
   "source": [
    "## Create a tsflex feature collection"
   ]
  },
  {
   "cell_type": "code",
   "execution_count": 12,
   "id": "0843a5f7",
   "metadata": {
    "_kg_hide-input": true,
    "execution": {
     "iopub.execute_input": "2023-05-11T12:54:47.650115Z",
     "iopub.status.busy": "2023-05-11T12:54:47.649092Z",
     "iopub.status.idle": "2023-05-11T12:54:47.659903Z",
     "shell.execute_reply": "2023-05-11T12:54:47.658579Z"
    },
    "papermill": {
     "duration": 0.025353,
     "end_time": "2023-05-11T12:54:47.662682",
     "exception": false,
     "start_time": "2023-05-11T12:54:47.637329",
     "status": "completed"
    },
    "tags": []
   },
   "outputs": [],
   "source": [
    "basic_feats = MultipleFeatureDescriptors(\n",
    "    functions=seglearn_feature_dict_wrapper(base_features()),\n",
    "    series_names=['AccV', 'AccML', 'AccAP'],\n",
    "    windows=[5_000],\n",
    "    strides=[5_000],\n",
    ")\n",
    "\n",
    "emg_feats = emg_features()\n",
    "del emg_feats['simple square integral'] # is same as abs_energy (which is in base_features)\n",
    "\n",
    "emg_feats = MultipleFeatureDescriptors(\n",
    "    functions=seglearn_feature_dict_wrapper(emg_feats),\n",
    "    series_names=['AccV', 'AccML', 'AccAP'],\n",
    "    windows=[5_000],\n",
    "    strides=[5_000],\n",
    ")\n",
    "\n",
    "fc = FeatureCollection([basic_feats, emg_feats])"
   ]
  },
  {
   "cell_type": "markdown",
   "id": "bc7f4f14",
   "metadata": {
    "papermill": {
     "duration": 0.010491,
     "end_time": "2023-05-11T12:54:47.683860",
     "exception": false,
     "start_time": "2023-05-11T12:54:47.673369",
     "status": "completed"
    },
    "tags": []
   },
   "source": [
    "## Extract the features (with Time_frac feature)"
   ]
  },
  {
   "cell_type": "code",
   "execution_count": 13,
   "id": "c512db27",
   "metadata": {
    "execution": {
     "iopub.execute_input": "2023-05-11T12:54:47.707307Z",
     "iopub.status.busy": "2023-05-11T12:54:47.706884Z",
     "iopub.status.idle": "2023-05-11T12:54:47.715089Z",
     "shell.execute_reply": "2023-05-11T12:54:47.713784Z"
    },
    "papermill": {
     "duration": 0.022706,
     "end_time": "2023-05-11T12:54:47.717391",
     "exception": false,
     "start_time": "2023-05-11T12:54:47.694685",
     "status": "completed"
    },
    "tags": []
   },
   "outputs": [],
   "source": [
    "def get_peaks(df, col):\n",
    "    peaks, properties = find_peaks(df[col], prominence=(None, 0.6))\n",
    "    df.loc[peaks, 'peaks']=peaks\n",
    "    df['peaks']=df['peaks'].bfill()\n",
    "    peaks_value=df['peaks'].map(df[['peaks']].groupby(['peaks']).size().to_dict())\n",
    "    return peaks_value\n",
    "def get_features(df, col, n_lag):\n",
    "    for i in range(1, n_lag):\n",
    "        df[f'lag_{col}_{i}']=df[col].shift(i).fillna(0)\n",
    "    return df[[f'lag_{col}_{j}' for j in range(1, n_lag)]]"
   ]
  },
  {
   "cell_type": "code",
   "execution_count": 14,
   "id": "ed1a46a3",
   "metadata": {
    "execution": {
     "iopub.execute_input": "2023-05-11T12:54:47.741163Z",
     "iopub.status.busy": "2023-05-11T12:54:47.740048Z",
     "iopub.status.idle": "2023-05-11T12:54:47.756019Z",
     "shell.execute_reply": "2023-05-11T12:54:47.754762Z"
    },
    "papermill": {
     "duration": 0.030714,
     "end_time": "2023-05-11T12:54:47.758696",
     "exception": false,
     "start_time": "2023-05-11T12:54:47.727982",
     "status": "completed"
    },
    "tags": []
   },
   "outputs": [],
   "source": [
    "\n",
    "import pathlib\n",
    "def reader(f, all=False, train=True, unlabeled=False):\n",
    "    if not all:\n",
    "        df = pd.read_csv(f,  usecols=['AccV', 'AccML', 'AccAP'])\n",
    "        df = fc.calculate(df, return_df=True, include_final_window=True, approve_sparsity=True, window_idx=\"begin\").astype(np.float32)\n",
    "        return df\n",
    "        \n",
    "    else:\n",
    "        if train:\n",
    "            if 'defog'==pathlib.Path(f).parts[-2]:\n",
    "                cols=['Time', 'AccV', 'AccML', 'AccAP', 'StartHesitation','Turn' ,'Walking', 'Task', 'Valid']\n",
    "            else:\n",
    "                cols=['Time', 'AccV', 'AccML', 'AccAP', 'StartHesitation','Turn' ,'Walking']\n",
    "\n",
    "        \n",
    "        \n",
    "        else:\n",
    "            cols=['AccV', 'AccML', 'AccAP', 'Time']\n",
    "        try:\n",
    "            if unlabeled:\n",
    "                df = pd.read_parquet(f) \n",
    "                df['Id']=f.split('/')[-1].split('.')[0]\n",
    "                df['Module'] = pathlib.Path(f).parts[-2]\n",
    "            else:\n",
    "                df = pd.read_csv(f, index_col=\"Time\", usecols=cols)\n",
    "                df['Id'] = f.split('/')[-1].split('.')[0]\n",
    "                df['Module'] = pathlib.Path(f).parts[-2]\n",
    "                #if 'Task' in df.columns and 'Valid' in df.columns:\n",
    "                #    df=df[(df['Task']==True) &(df['Valid']==True)]\n",
    "            #if 'tdcsfog' == pathlib.Path(f).parts[-2]:\n",
    "            #   df.AccV = df.AccV / 9.80665\n",
    "            #   df.AccML = df.AccML / 9.80665\n",
    "            #    df.AccAP = df.AccAP / 9.80665\n",
    "            df['Time_frac']=(df.index/df.index.max()).values#currently the index of data is actually \"Time\"\n",
    "            #df[[f'lag_AccV_{i}' for i in range(1, 6)]]=get_features(df, 'AccV', 6)\n",
    "            #df[[f'lag_AccML_{i}' for i in range(1, 6)]]=get_features(df, 'AccML', 6)\n",
    "            #df[[f'lag_AccML_{i}' for i in range(1, 6)]]=get_features(df, 'AccAP', 6)\n",
    "            #df['peaks_AccV']=get_peaks(df, 'AccV')\n",
    "            #df['peaks_AccML']=get_peaks(df, 'AccML')\n",
    "            #df['peaks_AccAP']=get_peaks(df, 'AccAP')\n",
    "            #df['ma_acc_v'] = df[\"AccV\"].rolling(25).mean()\n",
    "            #df['ma_acc_ml'] = df[\"AccML\"].rolling(25).mean()\n",
    "            #df['ma_acc_ap'] = df[\"AccAP\"].rolling(25).mean()\n",
    "            # Moving std\n",
    "            #df['std_acc_v'] = df[\"AccV\"].rolling(25).std()\n",
    "            #df['std_acc_ml'] = df[\"AccML\"].rolling(25).std()\n",
    "            #df['std_acc_ap'] = df[\"AccAP\"].rolling(25).std()\n",
    "            #df['Accv_change_1']=abs((df['AccV']-df['AccV'].shift(1)))\n",
    "            #df['AccML_change_1']=abs((df['AccML']-df['AccML'].shift(1)))\n",
    "            #df['AccAP_change_1']=abs((df['AccAP']-df['AccAP'].shift(1)))\n",
    "            #df['all_change']=(abs(df[['Accv_change_1', 'AccML_change_1', 'AccAP_change_1']])).sum(axis=1)\n",
    "            #df['Accv_change']=(df['AccV']-df['AccV'].shift(5))\n",
    "            #df['AccML_change']=(df['AccML']-df['AccML'].shift(5))\n",
    "            #df['AccAP_change']=(df['AccAP']-df['AccAP'].shift(5))\n",
    "            df = pd.merge(df, tasks[['Id','t_kmeans']], how='left', on='Id').fillna(-1)\n",
    "            #df = pd.merge(df, subjects[['Id','s_kmeans']], how='left', on='Id').fillna(-1)\n",
    "            #df=df.merge(metadata[['Id', 'Subject']], how='left', on='Id')\n",
    "            df = pd.merge(df, metadata_complex[['Id','Subject']+['Visit','Test','Medication','s_kmeans']], how='left', on='Id').fillna(-1)\n",
    "            df_feats = fc.calculate(df, return_df=True, include_final_window=True, approve_sparsity=True, window_idx=\"begin\").astype(np.float32)\n",
    "            #drop_cols=df_feats.columns\n",
    "            #df_feats[pca_cols]=pca_model.transform(df_feats)\n",
    "            #df_feats.drop(drop_cols, axis=1, inplace=True)\n",
    "            df = df.merge(df_feats, how=\"left\", left_index=True, right_index=True)\n",
    "            df.fillna(method=\"ffill\", inplace=True)\n",
    "            #df['AccV']=abs(df['AccV'])\n",
    "            #df['AccML']=abs(df['AccML'])\n",
    "            #df['AccAP']=abs(df['AccAP'])\n",
    "            return df\n",
    "        except: pass"
   ]
  },
  {
   "cell_type": "code",
   "execution_count": 15,
   "id": "4fa8c43d",
   "metadata": {
    "execution": {
     "iopub.execute_input": "2023-05-11T12:54:47.782254Z",
     "iopub.status.busy": "2023-05-11T12:54:47.781096Z",
     "iopub.status.idle": "2023-05-11T12:54:47.791524Z",
     "shell.execute_reply": "2023-05-11T12:54:47.790628Z"
    },
    "papermill": {
     "duration": 0.024616,
     "end_time": "2023-05-11T12:54:47.793862",
     "exception": false,
     "start_time": "2023-05-11T12:54:47.769246",
     "status": "completed"
    },
    "tags": []
   },
   "outputs": [],
   "source": [
    "def sample_reader(f, col, module):\n",
    "    df = pd.read_csv(f)\n",
    "    df['Id'] = f.split('/')[-1].split('.')[0]\n",
    "    df['Module'] = pathlib.Path(f).parts[-2]\n",
    "    df=df[df['Module']==module]\n",
    "    if 'Task' in df.columns and 'Valid' in df.columns:\n",
    "        df=df[(df['Task']==True) &(df['Valid']==True)]\n",
    "    df=df.merge(metadata[['Id', 'Subject']], how='left', on='Id')\n",
    "    return df\n",
    "    \n",
    "def get_data_index(f, col, module):\n",
    "    train=pd.concat([sample_reader(files, col, module) for files in tqdm(f)])\n",
    "    train=train.reset_index(drop=True)\n",
    "    train_index=[]\n",
    "    val_index=[]\n",
    "    kfold = StratifiedGroupKFold(5)\n",
    "    group_var = train.Subject\n",
    "    for fold, (tr_idx,te_idx ) in enumerate(tqdm(kfold.split(train, train[col], group_var))):\n",
    "        train_index.append(train.loc[tr_idx, 'Id'].unique())\n",
    "        val_index.append(train.loc[te_idx, 'Id'].unique())\n",
    "    del train\n",
    "    gc.collect()\n",
    "    return train_index, val_index"
   ]
  },
  {
   "cell_type": "code",
   "execution_count": 16,
   "id": "c77a6e3b",
   "metadata": {
    "execution": {
     "iopub.execute_input": "2023-05-11T12:54:47.817343Z",
     "iopub.status.busy": "2023-05-11T12:54:47.816617Z",
     "iopub.status.idle": "2023-05-11T12:54:47.821142Z",
     "shell.execute_reply": "2023-05-11T12:54:47.820283Z"
    },
    "papermill": {
     "duration": 0.018916,
     "end_time": "2023-05-11T12:54:47.823301",
     "exception": false,
     "start_time": "2023-05-11T12:54:47.804385",
     "status": "completed"
    },
    "tags": []
   },
   "outputs": [],
   "source": [
    "#turn_train_idx, turn_val_indx=get_data_index(train, 'Turn', 'tdcsfog')\n",
    "#turn_train_idx2, turn_val_indx2=get_data_index(train, 'Turn', 'defog')\n",
    "#walk_train_idx, walk_val_indx=get_data_index(train, 'Walking', 'tdcsfog')\n",
    "#walk_train_idx2, walk_val_indx2=get_data_index(train, 'Walking', 'defog')\n",
    "#st_train_idx, st_val_indx=get_data_index(train, 'StartHesitation', 'tdcsfog')\n",
    "#st_train_idx2, st_val_indx2=get_data_index(train, 'StartHesitation', 'defog')"
   ]
  },
  {
   "cell_type": "code",
   "execution_count": 17,
   "id": "2fe612b2",
   "metadata": {
    "execution": {
     "iopub.execute_input": "2023-05-11T12:54:47.847613Z",
     "iopub.status.busy": "2023-05-11T12:54:47.846696Z",
     "iopub.status.idle": "2023-05-11T12:54:47.854451Z",
     "shell.execute_reply": "2023-05-11T12:54:47.853606Z"
    },
    "papermill": {
     "duration": 0.023084,
     "end_time": "2023-05-11T12:54:47.856856",
     "exception": false,
     "start_time": "2023-05-11T12:54:47.833772",
     "status": "completed"
    },
    "tags": []
   },
   "outputs": [],
   "source": [
    "def save_index(label,data, data2):\n",
    "    df=pd.DataFrame()\n",
    "    lst=[]\n",
    "    for i in range(5):   \n",
    "        idx1=[ids for ids in  train if ids.split('/')[-1].split('.')[0] in data[i]]\n",
    "        idx=idx1+([ids for ids in  train if ids.split('/')[-1].split('.')[0] in data2[i]])\n",
    "        #lst.append(idx)\n",
    "        temp=pd.DataFrame(idx, columns=[f'{label}_{i}'])\n",
    "        #df[f'{label}_{i}']=idx\n",
    "        df=pd.concat([df, temp], axis=1)\n",
    "    df.to_csv(f'{label}.csv', index=False)\n",
    "        \n",
    "    "
   ]
  },
  {
   "cell_type": "code",
   "execution_count": 18,
   "id": "c7346081",
   "metadata": {
    "execution": {
     "iopub.execute_input": "2023-05-11T12:54:47.880162Z",
     "iopub.status.busy": "2023-05-11T12:54:47.879515Z",
     "iopub.status.idle": "2023-05-11T12:54:47.884089Z",
     "shell.execute_reply": "2023-05-11T12:54:47.882968Z"
    },
    "papermill": {
     "duration": 0.019032,
     "end_time": "2023-05-11T12:54:47.886495",
     "exception": false,
     "start_time": "2023-05-11T12:54:47.867463",
     "status": "completed"
    },
    "tags": []
   },
   "outputs": [],
   "source": [
    "#save_index('Turn', turn_train_idx, turn_train_idx2)\n",
    "#save_index('Turn2', turn_val_indx, turn_val_indx)\n",
    "#save_index('Walking', walk_train_idx, walk_train_idx2)\n",
    "#save_index('Walking2', walk_val_indx, walk_val_indx2)\n",
    "#save_index('StartHesitation', st_train_idx, st_train_idx2)\n",
    "#save_index('StartHesitation2', st_val_indx, st_val_indx2)"
   ]
  },
  {
   "cell_type": "code",
   "execution_count": 19,
   "id": "6ddc1e9b",
   "metadata": {
    "execution": {
     "iopub.execute_input": "2023-05-11T12:54:47.910452Z",
     "iopub.status.busy": "2023-05-11T12:54:47.910014Z",
     "iopub.status.idle": "2023-05-11T12:54:47.923848Z",
     "shell.execute_reply": "2023-05-11T12:54:47.922795Z"
    },
    "papermill": {
     "duration": 0.029128,
     "end_time": "2023-05-11T12:54:47.926248",
     "exception": false,
     "start_time": "2023-05-11T12:54:47.897120",
     "status": "completed"
    },
    "tags": []
   },
   "outputs": [],
   "source": [
    "def get_clean_feat(train, test, train_df=True):\n",
    "    train['lag_AccV']=train[[f'lag_AccV_{i}' for i in range(1, 6)]].astype(str).sum(axis=1)\n",
    "    test['lag_AccV']=test[[f'lag_AccV_{i}' for i in range(1, 6)]].astype(str).sum(axis=1)\n",
    "\n",
    "    train['lag_AccML']=train[[f'lag_AccML_{i}' for i in range(1, 6)]].astype(str).sum(axis=1)\n",
    "    test['lag_AccML']=test[[f'lag_AccML_{i}' for i in range(1, 6)]].astype(str).sum(axis=1)\n",
    "\n",
    "    train['lag_AccAP']=train[[f'lag_AccAP_{i}' for i in range(1, 6)]].astype(str).sum(axis=1)\n",
    "    test['lag_AccAP']=test[[f'lag_AccAP_{i}' for i in range(1, 6)]].astype(str).sum(axis=1)\n",
    "\n",
    "    train['lag_AccV'], test['lag_AccV']=encoder(train[['lag_AccV']],file2=test[['lag_AccV']], cols=['lag_AccV'], combined=True)\n",
    "    train['lag_AccML'], test['lag_AccML']=encoder(train[['lag_AccML']],file2=test[['lag_AccML']], cols=['lag_AccML'], combined=True)\n",
    "    train['lag_AccAP'], test['lag_AccAP']=encoder(train[['lag_AccAP']],file2=test[['lag_AccAP']], cols=['lag_AccAP'], combined=True)\n",
    "\n",
    "    train=train.drop([f'lag_AccV_{i}' for i in range(1, 6)]+[f'lag_AccAP_{i}' for i in range(1, 6)]+[f'lag_AccML_{i}' for i in range(1, 6)], axis=1)\n",
    "    test=test.drop([f'lag_AccV_{i}' for i in range(1, 6)]+[f'lag_AccAP_{i}' for i in range(1, 6)]+[f'lag_AccML_{i}' for i in range(1, 6)], axis=1)\n",
    "    if train_df:\n",
    "        return train\n",
    "    else:\n",
    "        return test\n",
    "    "
   ]
  },
  {
   "cell_type": "markdown",
   "id": "6265c5ad",
   "metadata": {
    "papermill": {
     "duration": 0.010173,
     "end_time": "2023-05-11T12:54:47.946837",
     "exception": false,
     "start_time": "2023-05-11T12:54:47.936664",
     "status": "completed"
    },
    "tags": []
   },
   "source": [
    "## Train the model"
   ]
  },
  {
   "cell_type": "code",
   "execution_count": 20,
   "id": "6da04ec4",
   "metadata": {
    "execution": {
     "iopub.execute_input": "2023-05-11T12:54:47.969789Z",
     "iopub.status.busy": "2023-05-11T12:54:47.969282Z",
     "iopub.status.idle": "2023-05-11T12:54:47.975739Z",
     "shell.execute_reply": "2023-05-11T12:54:47.974546Z"
    },
    "papermill": {
     "duration": 0.021034,
     "end_time": "2023-05-11T12:54:47.978201",
     "exception": false,
     "start_time": "2023-05-11T12:54:47.957167",
     "status": "completed"
    },
    "tags": []
   },
   "outputs": [],
   "source": [
    "best_params_ = {'estimator__colsample_bytree': 0.5282057895135501, \n",
    " 'estimator__learning_rate': 0.22659963168004743, \n",
    " 'estimator__max_depth': 8, \n",
    " 'estimator__min_child_weight': 3.1233911067827616, \n",
    " 'estimator__n_estimators': 291, \n",
    " 'estimator__subsample': 0.9961057796456088}\n",
    "best_params_ = {kk: v for k, v in best_params_.items() for kk in k.split('__')}; del best_params_['estimator']"
   ]
  },
  {
   "cell_type": "code",
   "execution_count": 21,
   "id": "5a4d6cd7",
   "metadata": {
    "execution": {
     "iopub.execute_input": "2023-05-11T12:54:48.001465Z",
     "iopub.status.busy": "2023-05-11T12:54:48.001007Z",
     "iopub.status.idle": "2023-05-11T12:54:48.006852Z",
     "shell.execute_reply": "2023-05-11T12:54:48.005616Z"
    },
    "papermill": {
     "duration": 0.02012,
     "end_time": "2023-05-11T12:54:48.009166",
     "exception": false,
     "start_time": "2023-05-11T12:54:47.989046",
     "status": "completed"
    },
    "tags": []
   },
   "outputs": [],
   "source": [
    "def custom_average_precision(y_true, y_pred):\n",
    "    score = average_precision_score(y_true, y_pred)\n",
    "    return 'average_precision', score, True"
   ]
  },
  {
   "cell_type": "code",
   "execution_count": 22,
   "id": "be5438b7",
   "metadata": {
    "_kg_hide-output": true,
    "execution": {
     "iopub.execute_input": "2023-05-11T12:54:48.032265Z",
     "iopub.status.busy": "2023-05-11T12:54:48.031753Z",
     "iopub.status.idle": "2023-05-11T12:54:48.046064Z",
     "shell.execute_reply": "2023-05-11T12:54:48.044895Z"
    },
    "papermill": {
     "duration": 0.028883,
     "end_time": "2023-05-11T12:54:48.048420",
     "exception": false,
     "start_time": "2023-05-11T12:54:48.019537",
     "status": "completed"
    },
    "tags": []
   },
   "outputs": [],
   "source": [
    "def train_model(train, label):\n",
    "    #train=pd.concat([reader(f, all=True, train=True) for f in tqdm(train)])\n",
    "    train=train.reset_index(drop=True)\n",
    "    train=reduce_memory_usage(train)\n",
    "    train['Module']=train['Module'].map(meta_dict)\n",
    "    cols = [c for c in train.columns if c not in ['Id','Subject', 'Time', 'StartHesitation', 'Turn' , 'Walking', 'Valid', 'Task','Event']]\n",
    "    pcols = ['StartHesitation', 'Turn' , 'Walking']\n",
    "    scols = ['Id', 'StartHesitation', 'Turn' , 'Walking']\n",
    "    cols=train[cols].select_dtypes('number').columns\n",
    "    cvs=[]\n",
    "    preds=[]\n",
    "    #oof=np.zeros(train.shape[0])\n",
    "    preds=[]\n",
    "    for i in range(5):\n",
    "       print(f'fold is {i+1} of 15' )\n",
    "       train_ids=pd.read_csv(f'/kaggle/input/subject/{label}.csv')[f'{label}_{i}'].dropna().str.split('/', expand=True)[6].str.split('.', expand=True)[0]\n",
    "       val_ids=pd.read_csv(f'/kaggle/input/subject/{label}2.csv')[f'{label}2_{i}'].dropna().str.split('/', expand=True)[6].str.split('.', expand=True)[0]\n",
    "       #tr_idx=pd.Series(tr_idx).sample(n=1000000,random_state=42).values #2000000\n",
    "       # Create a base XGBoost regressor with the common parameters\n",
    "       #model = lgb.LGBMClassifier(n_estimators=1000, class_weight='balanced', learning_rate=0.156443343)\n",
    "       model=lgb.LGBMRegressor(**best_params_)\n",
    "       \n",
    "       #x_tr,y_tr=train[cols],train[label]\n",
    "       #x_te,y_te=val[cols],val[label]\n",
    "\n",
    "       model.fit(\n",
    "       train[train['Id'].isin(train_ids)][cols],train[train['Id'].isin(train_ids)][label],\n",
    "       eval_set=(train[train['Id'].isin(val_ids)][cols], train[train['Id'].isin(val_ids)][label]),\n",
    "       eval_metric=custom_average_precision,\n",
    "       early_stopping_rounds=25, \n",
    "       verbose=50\n",
    "       )\n",
    "       #target=model.predict_proba(unlabeled)\n",
    "       #all_train=pd.concat([\n",
    "       #    unlabeled])\n",
    "       #model=model.fit(all_train, y)\n",
    "       \n",
    "        \n",
    "       preds.append(model)\n",
    "       cv=metrics.average_precision_score(train[train['Id'].isin(val_ids)][label], model.predict(train[train['Id'].isin(val_ids)][cols]))\n",
    "       cvs.append(cv)\n",
    "       print(np.mean(cvs, axis=0))\n",
    "    #preds=np.mean(preds, axis=0)\n",
    "    print(cvs)\n",
    "    del train\n",
    "    gc.collect()\n",
    "    return preds"
   ]
  },
  {
   "cell_type": "code",
   "execution_count": 23,
   "id": "ea39e396",
   "metadata": {
    "execution": {
     "iopub.execute_input": "2023-05-11T12:54:48.071900Z",
     "iopub.status.busy": "2023-05-11T12:54:48.070716Z",
     "iopub.status.idle": "2023-05-11T12:54:48.075675Z",
     "shell.execute_reply": "2023-05-11T12:54:48.074777Z"
    },
    "papermill": {
     "duration": 0.018896,
     "end_time": "2023-05-11T12:54:48.077812",
     "exception": false,
     "start_time": "2023-05-11T12:54:48.058916",
     "status": "completed"
    },
    "tags": []
   },
   "outputs": [],
   "source": [
    "#cols=['Time_frac', 'Accv_change', 'AccML_change','AccAP_change', 'peaks_AccV', 'peaks_AccML', 'peaks_AccAP', 'lag_AccV', 'lag_AccAP', 'lag_AccML']"
   ]
  },
  {
   "cell_type": "code",
   "execution_count": 24,
   "id": "eed89a05",
   "metadata": {
    "execution": {
     "iopub.execute_input": "2023-05-11T12:54:48.100869Z",
     "iopub.status.busy": "2023-05-11T12:54:48.100014Z",
     "iopub.status.idle": "2023-05-11T12:54:48.105950Z",
     "shell.execute_reply": "2023-05-11T12:54:48.105059Z"
    },
    "papermill": {
     "duration": 0.01974,
     "end_time": "2023-05-11T12:54:48.107985",
     "exception": false,
     "start_time": "2023-05-11T12:54:48.088245",
     "status": "completed"
    },
    "tags": []
   },
   "outputs": [],
   "source": [
    "def get_prediction(data):\n",
    "        preds1= train_model(data, 'StartHesitation'),\n",
    "        preds2= train_model(data, 'Turn'),\n",
    "        preds3=train_model(data, 'Walking')\n",
    "        return preds1, preds2, preds3"
   ]
  },
  {
   "cell_type": "code",
   "execution_count": 25,
   "id": "44f22670",
   "metadata": {
    "execution": {
     "iopub.execute_input": "2023-05-11T12:54:48.130519Z",
     "iopub.status.busy": "2023-05-11T12:54:48.130055Z",
     "iopub.status.idle": "2023-05-11T12:54:48.137749Z",
     "shell.execute_reply": "2023-05-11T12:54:48.136600Z"
    },
    "papermill": {
     "duration": 0.021648,
     "end_time": "2023-05-11T12:54:48.139922",
     "exception": false,
     "start_time": "2023-05-11T12:54:48.118274",
     "status": "completed"
    },
    "tags": []
   },
   "outputs": [],
   "source": [
    "def get_data(train_data=True, include_unlalebed=False):\n",
    "    if train_data:\n",
    "        df=pd.concat([reader(f, all=True, train=True) for f in tqdm(train)]).fillna(na)\n",
    "        if include_unlalebed:\n",
    "            df2= pd.concat([reader(f, all=True, train=True) for f in tqdm(train)]).fillna(na)\n",
    "            df=pd.concat([df, df2])\n",
    "        return df\n",
    "    else:\n",
    "        df= pd.concat([reader(f, all=True, train=False) for f in tqdm(test)]).fillna(na)\n",
    "        return df\n"
   ]
  },
  {
   "cell_type": "code",
   "execution_count": 26,
   "id": "0eab2822",
   "metadata": {
    "execution": {
     "iopub.execute_input": "2023-05-11T12:54:48.162778Z",
     "iopub.status.busy": "2023-05-11T12:54:48.162329Z",
     "iopub.status.idle": "2023-05-11T13:40:37.794466Z",
     "shell.execute_reply": "2023-05-11T13:40:37.792758Z"
    },
    "papermill": {
     "duration": 2749.65405,
     "end_time": "2023-05-11T13:40:37.804411",
     "exception": false,
     "start_time": "2023-05-11T12:54:48.150361",
     "status": "completed"
    },
    "tags": []
   },
   "outputs": [
    {
     "data": {
      "application/vnd.jupyter.widget-view+json": {
       "model_id": "e0bceece186945d5b9751117f118868b",
       "version_major": 2,
       "version_minor": 0
      },
      "text/plain": [
       "  0%|          | 0/970 [00:00<?, ?it/s]"
      ]
     },
     "metadata": {},
     "output_type": "display_data"
    },
    {
     "name": "stdout",
     "output_type": "stream",
     "text": [
      "Memory usage of dataframe is 7068.46 MB\n",
      "Memory usage became:  2866.6959228515625  MB\n",
      "fold is 1 of 15\n",
      "0.3641101154934483\n",
      "fold is 2 of 15\n",
      "0.1869910543544282\n",
      "fold is 3 of 15\n",
      "0.1286337189998686\n",
      "fold is 4 of 15\n",
      "0.09749762546797398\n",
      "fold is 5 of 15\n",
      "0.07964230942532288\n",
      "[0.3641101154934483, 0.0098719932154081, 0.011919048290749395, 0.004089344872290105, 0.008221045254718453]\n",
      "Memory usage of dataframe is 7068.46 MB\n",
      "Memory usage became:  2866.6959228515625  MB\n",
      "fold is 1 of 15\n",
      "0.6401123551992335\n",
      "fold is 2 of 15\n",
      "0.5827845306808914\n",
      "fold is 3 of 15\n",
      "[50]\tvalid_0's l2: 0.225021\tvalid_0's average_precision: 0.633854\n",
      "0.6068044245579816\n",
      "fold is 4 of 15\n",
      "0.6057165904378587\n",
      "fold is 5 of 15\n",
      "[50]\tvalid_0's l2: 0.12086\tvalid_0's average_precision: 0.366948\n",
      "0.5617389091654112\n",
      "[0.6401123551992335, 0.5254567061625495, 0.6548442123121617, 0.6024530880774902, 0.38582818407562114]\n",
      "Memory usage of dataframe is 7068.46 MB\n",
      "Memory usage became:  2866.6959228515625  MB\n",
      "fold is 1 of 15\n",
      "0.018065679802919513\n",
      "fold is 2 of 15\n",
      "0.014893753880396038\n",
      "fold is 3 of 15\n",
      "0.04399487765197086\n",
      "fold is 4 of 15\n",
      "0.035701685911845964\n",
      "fold is 5 of 15\n",
      "0.030037982728442197\n",
      "[0.018065679802919513, 0.011721827957872563, 0.10219712519512052, 0.010822110691471274, 0.007383169994827134]\n"
     ]
    }
   ],
   "source": [
    "preds1, preds2, preds3=get_prediction(get_data())"
   ]
  },
  {
   "cell_type": "code",
   "execution_count": 27,
   "id": "9fd38ea1",
   "metadata": {
    "execution": {
     "iopub.execute_input": "2023-05-11T13:40:37.833234Z",
     "iopub.status.busy": "2023-05-11T13:40:37.832086Z",
     "iopub.status.idle": "2023-05-11T13:40:37.842261Z",
     "shell.execute_reply": "2023-05-11T13:40:37.840911Z"
    },
    "papermill": {
     "duration": 0.027867,
     "end_time": "2023-05-11T13:40:37.844764",
     "exception": false,
     "start_time": "2023-05-11T13:40:37.816897",
     "status": "completed"
    },
    "tags": []
   },
   "outputs": [],
   "source": [
    "def read_parquet(f):\n",
    "    df = pd.read_parquet(f) \n",
    "    df['Id']=f.split('/')[-1].split('.')[0]\n",
    "    df['Module'] = 'defog'\n",
    "    df['Accv_change_1']=abs((df['AccV']-df['AccV'].shift(1)))\n",
    "    df['AccML_change_1']=abs((df['AccML']-df['AccML'].shift(1)))\n",
    "    df['AccAP_change_1']=abs((df['AccAP']-df['AccAP'].shift(1)))\n",
    "    df['all_change']=(abs(df[['Accv_change_1', 'AccML_change_1', 'AccAP_change_1']])).sum(axis=1)\n",
    "    df['AccV']=abs(df['AccV'])\n",
    "    df['AccML']=abs(df['AccML'])\n",
    "    df['AccAP']=abs(df['AccAP'])\n",
    "    v=sem_supervised(df)\n",
    "    return v\n",
    "    "
   ]
  },
  {
   "cell_type": "code",
   "execution_count": 28,
   "id": "96afda2e",
   "metadata": {
    "execution": {
     "iopub.execute_input": "2023-05-11T13:40:37.873369Z",
     "iopub.status.busy": "2023-05-11T13:40:37.872931Z",
     "iopub.status.idle": "2023-05-11T13:40:37.878103Z",
     "shell.execute_reply": "2023-05-11T13:40:37.877025Z"
    },
    "papermill": {
     "duration": 0.022164,
     "end_time": "2023-05-11T13:40:37.880547",
     "exception": false,
     "start_time": "2023-05-11T13:40:37.858383",
     "status": "completed"
    },
    "tags": []
   },
   "outputs": [],
   "source": [
    "#org_cols=['AccV', 'AccML', 'AccAP', 'Time']"
   ]
  },
  {
   "cell_type": "code",
   "execution_count": 29,
   "id": "8a8394b5",
   "metadata": {
    "execution": {
     "iopub.execute_input": "2023-05-11T13:40:37.907528Z",
     "iopub.status.busy": "2023-05-11T13:40:37.907093Z",
     "iopub.status.idle": "2023-05-11T13:40:45.228312Z",
     "shell.execute_reply": "2023-05-11T13:40:45.226858Z"
    },
    "papermill": {
     "duration": 7.338733,
     "end_time": "2023-05-11T13:40:45.231645",
     "exception": false,
     "start_time": "2023-05-11T13:40:37.892912",
     "status": "completed"
    },
    "tags": []
   },
   "outputs": [
    {
     "data": {
      "application/vnd.jupyter.widget-view+json": {
       "model_id": "7de3910fd14f4789acb83bb70dcfabd0",
       "version_major": 2,
       "version_minor": 0
      },
      "text/plain": [
       "  0%|          | 0/2 [00:00<?, ?it/s]"
      ]
     },
     "metadata": {},
     "output_type": "display_data"
    },
    {
     "name": "stdout",
     "output_type": "stream",
     "text": [
      "Memory usage of dataframe is 89.58 MB\n",
      "Memory usage became:  39.32728958129883  MB\n"
     ]
    }
   ],
   "source": [
    "lst_models=[preds1[0], preds2[0], preds3]\n",
    "df=get_data(train_data=False)\n",
    "df=reduce_memory_usage(df)\n",
    "df['Module']=df['Module'].map(meta_dict)\n",
    "cols = [c for c in df.columns if c not in ['Id','Subject', 'Time', 'StartHesitation', 'Turn' , 'Walking', 'Valid', 'Task','Event']]\n",
    "cols=df[cols].select_dtypes('number').columns\n",
    "all_preds=[]\n",
    "for regs in lst_models:\n",
    "    res_vals=[]\n",
    "    for i_fold in range(5):\n",
    "        res_val=regs[i_fold].predict(df[cols])\n",
    "        res_vals.append(res_val)\n",
    "    res_vals=np.mean(res_vals, axis=0)\n",
    "    all_preds.append(res_vals)\n",
    "    \n"
   ]
  },
  {
   "cell_type": "code",
   "execution_count": 30,
   "id": "2c77a93d",
   "metadata": {
    "execution": {
     "iopub.execute_input": "2023-05-11T13:40:45.260286Z",
     "iopub.status.busy": "2023-05-11T13:40:45.259836Z",
     "iopub.status.idle": "2023-05-11T13:40:47.445375Z",
     "shell.execute_reply": "2023-05-11T13:40:47.444291Z"
    },
    "papermill": {
     "duration": 2.203957,
     "end_time": "2023-05-11T13:40:47.448580",
     "exception": false,
     "start_time": "2023-05-11T13:40:45.244623",
     "status": "completed"
    },
    "tags": []
   },
   "outputs": [],
   "source": [
    "\n",
    "submission=pd.DataFrame({ 'Id':df['Id'].astype(str) + '_' + df.index.astype(str),\n",
    "              'StartHesitation': all_preds[0], \n",
    "              'Turn': all_preds[1], \n",
    "              'Walking':all_preds[2] })\n",
    "submission = pd.merge(sub[['Id']], submission, how='left', on='Id').fillna(0.0)\n",
    "submission.to_csv('submission.csv', index=False)"
   ]
  },
  {
   "cell_type": "markdown",
   "id": "9b9498e7",
   "metadata": {
    "papermill": {
     "duration": 0.012273,
     "end_time": "2023-05-11T13:40:47.473605",
     "exception": false,
     "start_time": "2023-05-11T13:40:47.461332",
     "status": "completed"
    },
    "tags": []
   },
   "source": [
    "## Predict for test"
   ]
  },
  {
   "cell_type": "code",
   "execution_count": 31,
   "id": "875cdb30",
   "metadata": {
    "execution": {
     "iopub.execute_input": "2023-05-11T13:40:47.500957Z",
     "iopub.status.busy": "2023-05-11T13:40:47.500512Z",
     "iopub.status.idle": "2023-05-11T13:40:49.019315Z",
     "shell.execute_reply": "2023-05-11T13:40:49.018084Z"
    },
    "papermill": {
     "duration": 1.535989,
     "end_time": "2023-05-11T13:40:49.022216",
     "exception": false,
     "start_time": "2023-05-11T13:40:47.486227",
     "status": "completed"
    },
    "tags": []
   },
   "outputs": [
    {
     "data": {
      "text/html": [
       "<div>\n",
       "<style scoped>\n",
       "    .dataframe tbody tr th:only-of-type {\n",
       "        vertical-align: middle;\n",
       "    }\n",
       "\n",
       "    .dataframe tbody tr th {\n",
       "        vertical-align: top;\n",
       "    }\n",
       "\n",
       "    .dataframe thead th {\n",
       "        text-align: right;\n",
       "    }\n",
       "</style>\n",
       "<table border=\"1\" class=\"dataframe\">\n",
       "  <thead>\n",
       "    <tr style=\"text-align: right;\">\n",
       "      <th></th>\n",
       "      <th>Id</th>\n",
       "      <th>StartHesitation</th>\n",
       "      <th>Turn</th>\n",
       "      <th>Walking</th>\n",
       "    </tr>\n",
       "  </thead>\n",
       "  <tbody>\n",
       "    <tr>\n",
       "      <th>0</th>\n",
       "      <td>003f117e14_0</td>\n",
       "      <td>0.031643</td>\n",
       "      <td>-0.000238</td>\n",
       "      <td>0.011173</td>\n",
       "    </tr>\n",
       "    <tr>\n",
       "      <th>1</th>\n",
       "      <td>003f117e14_1</td>\n",
       "      <td>0.031643</td>\n",
       "      <td>-0.000238</td>\n",
       "      <td>0.011173</td>\n",
       "    </tr>\n",
       "    <tr>\n",
       "      <th>2</th>\n",
       "      <td>003f117e14_2</td>\n",
       "      <td>0.031643</td>\n",
       "      <td>-0.000238</td>\n",
       "      <td>0.011173</td>\n",
       "    </tr>\n",
       "    <tr>\n",
       "      <th>3</th>\n",
       "      <td>003f117e14_3</td>\n",
       "      <td>0.031643</td>\n",
       "      <td>-0.000238</td>\n",
       "      <td>0.011173</td>\n",
       "    </tr>\n",
       "    <tr>\n",
       "      <th>4</th>\n",
       "      <td>003f117e14_4</td>\n",
       "      <td>0.031643</td>\n",
       "      <td>-0.000238</td>\n",
       "      <td>0.011173</td>\n",
       "    </tr>\n",
       "    <tr>\n",
       "      <th>...</th>\n",
       "      <td>...</td>\n",
       "      <td>...</td>\n",
       "      <td>...</td>\n",
       "      <td>...</td>\n",
       "    </tr>\n",
       "    <tr>\n",
       "      <th>286365</th>\n",
       "      <td>02ab235146_281683</td>\n",
       "      <td>0.011291</td>\n",
       "      <td>0.033544</td>\n",
       "      <td>0.013494</td>\n",
       "    </tr>\n",
       "    <tr>\n",
       "      <th>286366</th>\n",
       "      <td>02ab235146_281684</td>\n",
       "      <td>0.011291</td>\n",
       "      <td>0.033544</td>\n",
       "      <td>0.013494</td>\n",
       "    </tr>\n",
       "    <tr>\n",
       "      <th>286367</th>\n",
       "      <td>02ab235146_281685</td>\n",
       "      <td>0.011291</td>\n",
       "      <td>0.033544</td>\n",
       "      <td>0.013494</td>\n",
       "    </tr>\n",
       "    <tr>\n",
       "      <th>286368</th>\n",
       "      <td>02ab235146_281686</td>\n",
       "      <td>0.011291</td>\n",
       "      <td>0.033544</td>\n",
       "      <td>0.013494</td>\n",
       "    </tr>\n",
       "    <tr>\n",
       "      <th>286369</th>\n",
       "      <td>02ab235146_281687</td>\n",
       "      <td>0.011291</td>\n",
       "      <td>0.033544</td>\n",
       "      <td>0.013494</td>\n",
       "    </tr>\n",
       "  </tbody>\n",
       "</table>\n",
       "<p>286370 rows × 4 columns</p>\n",
       "</div>"
      ],
      "text/plain": [
       "                       Id  StartHesitation      Turn   Walking\n",
       "0            003f117e14_0         0.031643 -0.000238  0.011173\n",
       "1            003f117e14_1         0.031643 -0.000238  0.011173\n",
       "2            003f117e14_2         0.031643 -0.000238  0.011173\n",
       "3            003f117e14_3         0.031643 -0.000238  0.011173\n",
       "4            003f117e14_4         0.031643 -0.000238  0.011173\n",
       "...                   ...              ...       ...       ...\n",
       "286365  02ab235146_281683         0.011291  0.033544  0.013494\n",
       "286366  02ab235146_281684         0.011291  0.033544  0.013494\n",
       "286367  02ab235146_281685         0.011291  0.033544  0.013494\n",
       "286368  02ab235146_281686         0.011291  0.033544  0.013494\n",
       "286369  02ab235146_281687         0.011291  0.033544  0.013494\n",
       "\n",
       "[286370 rows x 4 columns]"
      ]
     },
     "execution_count": 31,
     "metadata": {},
     "output_type": "execute_result"
    }
   ],
   "source": [
    "submission.to_csv('submission.csv', index=False)\n",
    "submission\n"
   ]
  }
 ],
 "metadata": {
  "kernelspec": {
   "display_name": "Python 3",
   "language": "python",
   "name": "python3"
  },
  "language_info": {
   "codemirror_mode": {
    "name": "ipython",
    "version": 3
   },
   "file_extension": ".py",
   "mimetype": "text/x-python",
   "name": "python",
   "nbconvert_exporter": "python",
   "pygments_lexer": "ipython3",
   "version": "3.7.12"
  },
  "papermill": {
   "default_parameters": {},
   "duration": 2803.285261,
   "end_time": "2023-05-11T13:40:50.474871",
   "environment_variables": {},
   "exception": null,
   "input_path": "__notebook__.ipynb",
   "output_path": "__notebook__.ipynb",
   "parameters": {},
   "start_time": "2023-05-11T12:54:07.189610",
   "version": "2.4.0"
  },
  "widgets": {
   "application/vnd.jupyter.widget-state+json": {
    "state": {
     "1bf4e491825d4292accdd6d39521031a": {
      "model_module": "@jupyter-widgets/base",
      "model_module_version": "1.2.0",
      "model_name": "LayoutModel",
      "state": {
       "_model_module": "@jupyter-widgets/base",
       "_model_module_version": "1.2.0",
       "_model_name": "LayoutModel",
       "_view_count": null,
       "_view_module": "@jupyter-widgets/base",
       "_view_module_version": "1.2.0",
       "_view_name": "LayoutView",
       "align_content": null,
       "align_items": null,
       "align_self": null,
       "border": null,
       "bottom": null,
       "display": null,
       "flex": null,
       "flex_flow": null,
       "grid_area": null,
       "grid_auto_columns": null,
       "grid_auto_flow": null,
       "grid_auto_rows": null,
       "grid_column": null,
       "grid_gap": null,
       "grid_row": null,
       "grid_template_areas": null,
       "grid_template_columns": null,
       "grid_template_rows": null,
       "height": null,
       "justify_content": null,
       "justify_items": null,
       "left": null,
       "margin": null,
       "max_height": null,
       "max_width": null,
       "min_height": null,
       "min_width": null,
       "object_fit": null,
       "object_position": null,
       "order": null,
       "overflow": null,
       "overflow_x": null,
       "overflow_y": null,
       "padding": null,
       "right": null,
       "top": null,
       "visibility": null,
       "width": null
      }
     },
     "42cf67e43a7b4d14b5a7408eb87b110f": {
      "model_module": "@jupyter-widgets/controls",
      "model_module_version": "1.5.0",
      "model_name": "FloatProgressModel",
      "state": {
       "_dom_classes": [],
       "_model_module": "@jupyter-widgets/controls",
       "_model_module_version": "1.5.0",
       "_model_name": "FloatProgressModel",
       "_view_count": null,
       "_view_module": "@jupyter-widgets/controls",
       "_view_module_version": "1.5.0",
       "_view_name": "ProgressView",
       "bar_style": "success",
       "description": "",
       "description_tooltip": null,
       "layout": "IPY_MODEL_dc6a013b862d4fdfba363353e344c45b",
       "max": 970.0,
       "min": 0.0,
       "orientation": "horizontal",
       "style": "IPY_MODEL_5d30f23389da437c90c87474b474ad31",
       "value": 970.0
      }
     },
     "570088ebb81d4bf88b7fa722ca2e2423": {
      "model_module": "@jupyter-widgets/controls",
      "model_module_version": "1.5.0",
      "model_name": "DescriptionStyleModel",
      "state": {
       "_model_module": "@jupyter-widgets/controls",
       "_model_module_version": "1.5.0",
       "_model_name": "DescriptionStyleModel",
       "_view_count": null,
       "_view_module": "@jupyter-widgets/base",
       "_view_module_version": "1.2.0",
       "_view_name": "StyleView",
       "description_width": ""
      }
     },
     "5d30f23389da437c90c87474b474ad31": {
      "model_module": "@jupyter-widgets/controls",
      "model_module_version": "1.5.0",
      "model_name": "ProgressStyleModel",
      "state": {
       "_model_module": "@jupyter-widgets/controls",
       "_model_module_version": "1.5.0",
       "_model_name": "ProgressStyleModel",
       "_view_count": null,
       "_view_module": "@jupyter-widgets/base",
       "_view_module_version": "1.2.0",
       "_view_name": "StyleView",
       "bar_color": null,
       "description_width": ""
      }
     },
     "71f02bf413da4742bcc49243146f7f16": {
      "model_module": "@jupyter-widgets/controls",
      "model_module_version": "1.5.0",
      "model_name": "HTMLModel",
      "state": {
       "_dom_classes": [],
       "_model_module": "@jupyter-widgets/controls",
       "_model_module_version": "1.5.0",
       "_model_name": "HTMLModel",
       "_view_count": null,
       "_view_module": "@jupyter-widgets/controls",
       "_view_module_version": "1.5.0",
       "_view_name": "HTMLView",
       "description": "",
       "description_tooltip": null,
       "layout": "IPY_MODEL_1bf4e491825d4292accdd6d39521031a",
       "placeholder": "​",
       "style": "IPY_MODEL_862e478f6d83481e9d382cc82424e3b0",
       "value": " 2/2 [00:02&lt;00:00,  1.29s/it]"
      }
     },
     "7de3910fd14f4789acb83bb70dcfabd0": {
      "model_module": "@jupyter-widgets/controls",
      "model_module_version": "1.5.0",
      "model_name": "HBoxModel",
      "state": {
       "_dom_classes": [],
       "_model_module": "@jupyter-widgets/controls",
       "_model_module_version": "1.5.0",
       "_model_name": "HBoxModel",
       "_view_count": null,
       "_view_module": "@jupyter-widgets/controls",
       "_view_module_version": "1.5.0",
       "_view_name": "HBoxView",
       "box_style": "",
       "children": [
        "IPY_MODEL_a67a52155e9244779fa9927ddd9fd207",
        "IPY_MODEL_bd9b56fe394a4b2693ef3cb4f27d4175",
        "IPY_MODEL_71f02bf413da4742bcc49243146f7f16"
       ],
       "layout": "IPY_MODEL_e12217aba06545dcb353b2aa115b3767"
      }
     },
     "862e478f6d83481e9d382cc82424e3b0": {
      "model_module": "@jupyter-widgets/controls",
      "model_module_version": "1.5.0",
      "model_name": "DescriptionStyleModel",
      "state": {
       "_model_module": "@jupyter-widgets/controls",
       "_model_module_version": "1.5.0",
       "_model_name": "DescriptionStyleModel",
       "_view_count": null,
       "_view_module": "@jupyter-widgets/base",
       "_view_module_version": "1.2.0",
       "_view_name": "StyleView",
       "description_width": ""
      }
     },
     "8944a77257774ce3873877b62b92ff68": {
      "model_module": "@jupyter-widgets/controls",
      "model_module_version": "1.5.0",
      "model_name": "DescriptionStyleModel",
      "state": {
       "_model_module": "@jupyter-widgets/controls",
       "_model_module_version": "1.5.0",
       "_model_name": "DescriptionStyleModel",
       "_view_count": null,
       "_view_module": "@jupyter-widgets/base",
       "_view_module_version": "1.2.0",
       "_view_name": "StyleView",
       "description_width": ""
      }
     },
     "8f12cd894b2c49599b2e39be634f1717": {
      "model_module": "@jupyter-widgets/controls",
      "model_module_version": "1.5.0",
      "model_name": "DescriptionStyleModel",
      "state": {
       "_model_module": "@jupyter-widgets/controls",
       "_model_module_version": "1.5.0",
       "_model_name": "DescriptionStyleModel",
       "_view_count": null,
       "_view_module": "@jupyter-widgets/base",
       "_view_module_version": "1.2.0",
       "_view_name": "StyleView",
       "description_width": ""
      }
     },
     "94f5bd971b114d92a246af0c123f5a2d": {
      "model_module": "@jupyter-widgets/base",
      "model_module_version": "1.2.0",
      "model_name": "LayoutModel",
      "state": {
       "_model_module": "@jupyter-widgets/base",
       "_model_module_version": "1.2.0",
       "_model_name": "LayoutModel",
       "_view_count": null,
       "_view_module": "@jupyter-widgets/base",
       "_view_module_version": "1.2.0",
       "_view_name": "LayoutView",
       "align_content": null,
       "align_items": null,
       "align_self": null,
       "border": null,
       "bottom": null,
       "display": null,
       "flex": null,
       "flex_flow": null,
       "grid_area": null,
       "grid_auto_columns": null,
       "grid_auto_flow": null,
       "grid_auto_rows": null,
       "grid_column": null,
       "grid_gap": null,
       "grid_row": null,
       "grid_template_areas": null,
       "grid_template_columns": null,
       "grid_template_rows": null,
       "height": null,
       "justify_content": null,
       "justify_items": null,
       "left": null,
       "margin": null,
       "max_height": null,
       "max_width": null,
       "min_height": null,
       "min_width": null,
       "object_fit": null,
       "object_position": null,
       "order": null,
       "overflow": null,
       "overflow_x": null,
       "overflow_y": null,
       "padding": null,
       "right": null,
       "top": null,
       "visibility": null,
       "width": null
      }
     },
     "a67a52155e9244779fa9927ddd9fd207": {
      "model_module": "@jupyter-widgets/controls",
      "model_module_version": "1.5.0",
      "model_name": "HTMLModel",
      "state": {
       "_dom_classes": [],
       "_model_module": "@jupyter-widgets/controls",
       "_model_module_version": "1.5.0",
       "_model_name": "HTMLModel",
       "_view_count": null,
       "_view_module": "@jupyter-widgets/controls",
       "_view_module_version": "1.5.0",
       "_view_name": "HTMLView",
       "description": "",
       "description_tooltip": null,
       "layout": "IPY_MODEL_c33705076eac4b3b8696b4e4964af922",
       "placeholder": "​",
       "style": "IPY_MODEL_8944a77257774ce3873877b62b92ff68",
       "value": "100%"
      }
     },
     "a6b41581f08f47f39dfe5c083e8401f3": {
      "model_module": "@jupyter-widgets/controls",
      "model_module_version": "1.5.0",
      "model_name": "ProgressStyleModel",
      "state": {
       "_model_module": "@jupyter-widgets/controls",
       "_model_module_version": "1.5.0",
       "_model_name": "ProgressStyleModel",
       "_view_count": null,
       "_view_module": "@jupyter-widgets/base",
       "_view_module_version": "1.2.0",
       "_view_name": "StyleView",
       "bar_color": null,
       "description_width": ""
      }
     },
     "b20946dd270a42fab73f053a29cc29a3": {
      "model_module": "@jupyter-widgets/controls",
      "model_module_version": "1.5.0",
      "model_name": "HTMLModel",
      "state": {
       "_dom_classes": [],
       "_model_module": "@jupyter-widgets/controls",
       "_model_module_version": "1.5.0",
       "_model_name": "HTMLModel",
       "_view_count": null,
       "_view_module": "@jupyter-widgets/controls",
       "_view_module_version": "1.5.0",
       "_view_name": "HTMLView",
       "description": "",
       "description_tooltip": null,
       "layout": "IPY_MODEL_94f5bd971b114d92a246af0c123f5a2d",
       "placeholder": "​",
       "style": "IPY_MODEL_8f12cd894b2c49599b2e39be634f1717",
       "value": "100%"
      }
     },
     "bd9b56fe394a4b2693ef3cb4f27d4175": {
      "model_module": "@jupyter-widgets/controls",
      "model_module_version": "1.5.0",
      "model_name": "FloatProgressModel",
      "state": {
       "_dom_classes": [],
       "_model_module": "@jupyter-widgets/controls",
       "_model_module_version": "1.5.0",
       "_model_name": "FloatProgressModel",
       "_view_count": null,
       "_view_module": "@jupyter-widgets/controls",
       "_view_module_version": "1.5.0",
       "_view_name": "ProgressView",
       "bar_style": "success",
       "description": "",
       "description_tooltip": null,
       "layout": "IPY_MODEL_dbd0bdde5f5246ab820e7ec84607bd6e",
       "max": 2.0,
       "min": 0.0,
       "orientation": "horizontal",
       "style": "IPY_MODEL_a6b41581f08f47f39dfe5c083e8401f3",
       "value": 2.0
      }
     },
     "c33705076eac4b3b8696b4e4964af922": {
      "model_module": "@jupyter-widgets/base",
      "model_module_version": "1.2.0",
      "model_name": "LayoutModel",
      "state": {
       "_model_module": "@jupyter-widgets/base",
       "_model_module_version": "1.2.0",
       "_model_name": "LayoutModel",
       "_view_count": null,
       "_view_module": "@jupyter-widgets/base",
       "_view_module_version": "1.2.0",
       "_view_name": "LayoutView",
       "align_content": null,
       "align_items": null,
       "align_self": null,
       "border": null,
       "bottom": null,
       "display": null,
       "flex": null,
       "flex_flow": null,
       "grid_area": null,
       "grid_auto_columns": null,
       "grid_auto_flow": null,
       "grid_auto_rows": null,
       "grid_column": null,
       "grid_gap": null,
       "grid_row": null,
       "grid_template_areas": null,
       "grid_template_columns": null,
       "grid_template_rows": null,
       "height": null,
       "justify_content": null,
       "justify_items": null,
       "left": null,
       "margin": null,
       "max_height": null,
       "max_width": null,
       "min_height": null,
       "min_width": null,
       "object_fit": null,
       "object_position": null,
       "order": null,
       "overflow": null,
       "overflow_x": null,
       "overflow_y": null,
       "padding": null,
       "right": null,
       "top": null,
       "visibility": null,
       "width": null
      }
     },
     "d9e69858a8e94ed5a5217054d1fb187c": {
      "model_module": "@jupyter-widgets/base",
      "model_module_version": "1.2.0",
      "model_name": "LayoutModel",
      "state": {
       "_model_module": "@jupyter-widgets/base",
       "_model_module_version": "1.2.0",
       "_model_name": "LayoutModel",
       "_view_count": null,
       "_view_module": "@jupyter-widgets/base",
       "_view_module_version": "1.2.0",
       "_view_name": "LayoutView",
       "align_content": null,
       "align_items": null,
       "align_self": null,
       "border": null,
       "bottom": null,
       "display": null,
       "flex": null,
       "flex_flow": null,
       "grid_area": null,
       "grid_auto_columns": null,
       "grid_auto_flow": null,
       "grid_auto_rows": null,
       "grid_column": null,
       "grid_gap": null,
       "grid_row": null,
       "grid_template_areas": null,
       "grid_template_columns": null,
       "grid_template_rows": null,
       "height": null,
       "justify_content": null,
       "justify_items": null,
       "left": null,
       "margin": null,
       "max_height": null,
       "max_width": null,
       "min_height": null,
       "min_width": null,
       "object_fit": null,
       "object_position": null,
       "order": null,
       "overflow": null,
       "overflow_x": null,
       "overflow_y": null,
       "padding": null,
       "right": null,
       "top": null,
       "visibility": null,
       "width": null
      }
     },
     "dbd0bdde5f5246ab820e7ec84607bd6e": {
      "model_module": "@jupyter-widgets/base",
      "model_module_version": "1.2.0",
      "model_name": "LayoutModel",
      "state": {
       "_model_module": "@jupyter-widgets/base",
       "_model_module_version": "1.2.0",
       "_model_name": "LayoutModel",
       "_view_count": null,
       "_view_module": "@jupyter-widgets/base",
       "_view_module_version": "1.2.0",
       "_view_name": "LayoutView",
       "align_content": null,
       "align_items": null,
       "align_self": null,
       "border": null,
       "bottom": null,
       "display": null,
       "flex": null,
       "flex_flow": null,
       "grid_area": null,
       "grid_auto_columns": null,
       "grid_auto_flow": null,
       "grid_auto_rows": null,
       "grid_column": null,
       "grid_gap": null,
       "grid_row": null,
       "grid_template_areas": null,
       "grid_template_columns": null,
       "grid_template_rows": null,
       "height": null,
       "justify_content": null,
       "justify_items": null,
       "left": null,
       "margin": null,
       "max_height": null,
       "max_width": null,
       "min_height": null,
       "min_width": null,
       "object_fit": null,
       "object_position": null,
       "order": null,
       "overflow": null,
       "overflow_x": null,
       "overflow_y": null,
       "padding": null,
       "right": null,
       "top": null,
       "visibility": null,
       "width": null
      }
     },
     "dc6a013b862d4fdfba363353e344c45b": {
      "model_module": "@jupyter-widgets/base",
      "model_module_version": "1.2.0",
      "model_name": "LayoutModel",
      "state": {
       "_model_module": "@jupyter-widgets/base",
       "_model_module_version": "1.2.0",
       "_model_name": "LayoutModel",
       "_view_count": null,
       "_view_module": "@jupyter-widgets/base",
       "_view_module_version": "1.2.0",
       "_view_name": "LayoutView",
       "align_content": null,
       "align_items": null,
       "align_self": null,
       "border": null,
       "bottom": null,
       "display": null,
       "flex": null,
       "flex_flow": null,
       "grid_area": null,
       "grid_auto_columns": null,
       "grid_auto_flow": null,
       "grid_auto_rows": null,
       "grid_column": null,
       "grid_gap": null,
       "grid_row": null,
       "grid_template_areas": null,
       "grid_template_columns": null,
       "grid_template_rows": null,
       "height": null,
       "justify_content": null,
       "justify_items": null,
       "left": null,
       "margin": null,
       "max_height": null,
       "max_width": null,
       "min_height": null,
       "min_width": null,
       "object_fit": null,
       "object_position": null,
       "order": null,
       "overflow": null,
       "overflow_x": null,
       "overflow_y": null,
       "padding": null,
       "right": null,
       "top": null,
       "visibility": null,
       "width": null
      }
     },
     "e055c6a12d8049d3be3efda4c5284fe2": {
      "model_module": "@jupyter-widgets/base",
      "model_module_version": "1.2.0",
      "model_name": "LayoutModel",
      "state": {
       "_model_module": "@jupyter-widgets/base",
       "_model_module_version": "1.2.0",
       "_model_name": "LayoutModel",
       "_view_count": null,
       "_view_module": "@jupyter-widgets/base",
       "_view_module_version": "1.2.0",
       "_view_name": "LayoutView",
       "align_content": null,
       "align_items": null,
       "align_self": null,
       "border": null,
       "bottom": null,
       "display": null,
       "flex": null,
       "flex_flow": null,
       "grid_area": null,
       "grid_auto_columns": null,
       "grid_auto_flow": null,
       "grid_auto_rows": null,
       "grid_column": null,
       "grid_gap": null,
       "grid_row": null,
       "grid_template_areas": null,
       "grid_template_columns": null,
       "grid_template_rows": null,
       "height": null,
       "justify_content": null,
       "justify_items": null,
       "left": null,
       "margin": null,
       "max_height": null,
       "max_width": null,
       "min_height": null,
       "min_width": null,
       "object_fit": null,
       "object_position": null,
       "order": null,
       "overflow": null,
       "overflow_x": null,
       "overflow_y": null,
       "padding": null,
       "right": null,
       "top": null,
       "visibility": null,
       "width": null
      }
     },
     "e0bceece186945d5b9751117f118868b": {
      "model_module": "@jupyter-widgets/controls",
      "model_module_version": "1.5.0",
      "model_name": "HBoxModel",
      "state": {
       "_dom_classes": [],
       "_model_module": "@jupyter-widgets/controls",
       "_model_module_version": "1.5.0",
       "_model_name": "HBoxModel",
       "_view_count": null,
       "_view_module": "@jupyter-widgets/controls",
       "_view_module_version": "1.5.0",
       "_view_name": "HBoxView",
       "box_style": "",
       "children": [
        "IPY_MODEL_b20946dd270a42fab73f053a29cc29a3",
        "IPY_MODEL_42cf67e43a7b4d14b5a7408eb87b110f",
        "IPY_MODEL_e8c86da7b8ef4f948dd610c876a84f5e"
       ],
       "layout": "IPY_MODEL_d9e69858a8e94ed5a5217054d1fb187c"
      }
     },
     "e12217aba06545dcb353b2aa115b3767": {
      "model_module": "@jupyter-widgets/base",
      "model_module_version": "1.2.0",
      "model_name": "LayoutModel",
      "state": {
       "_model_module": "@jupyter-widgets/base",
       "_model_module_version": "1.2.0",
       "_model_name": "LayoutModel",
       "_view_count": null,
       "_view_module": "@jupyter-widgets/base",
       "_view_module_version": "1.2.0",
       "_view_name": "LayoutView",
       "align_content": null,
       "align_items": null,
       "align_self": null,
       "border": null,
       "bottom": null,
       "display": null,
       "flex": null,
       "flex_flow": null,
       "grid_area": null,
       "grid_auto_columns": null,
       "grid_auto_flow": null,
       "grid_auto_rows": null,
       "grid_column": null,
       "grid_gap": null,
       "grid_row": null,
       "grid_template_areas": null,
       "grid_template_columns": null,
       "grid_template_rows": null,
       "height": null,
       "justify_content": null,
       "justify_items": null,
       "left": null,
       "margin": null,
       "max_height": null,
       "max_width": null,
       "min_height": null,
       "min_width": null,
       "object_fit": null,
       "object_position": null,
       "order": null,
       "overflow": null,
       "overflow_x": null,
       "overflow_y": null,
       "padding": null,
       "right": null,
       "top": null,
       "visibility": null,
       "width": null
      }
     },
     "e8c86da7b8ef4f948dd610c876a84f5e": {
      "model_module": "@jupyter-widgets/controls",
      "model_module_version": "1.5.0",
      "model_name": "HTMLModel",
      "state": {
       "_dom_classes": [],
       "_model_module": "@jupyter-widgets/controls",
       "_model_module_version": "1.5.0",
       "_model_name": "HTMLModel",
       "_view_count": null,
       "_view_module": "@jupyter-widgets/controls",
       "_view_module_version": "1.5.0",
       "_view_name": "HTMLView",
       "description": "",
       "description_tooltip": null,
       "layout": "IPY_MODEL_e055c6a12d8049d3be3efda4c5284fe2",
       "placeholder": "​",
       "style": "IPY_MODEL_570088ebb81d4bf88b7fa722ca2e2423",
       "value": " 970/970 [07:34&lt;00:00, 33.89it/s]"
      }
     }
    },
    "version_major": 2,
    "version_minor": 0
   }
  }
 },
 "nbformat": 4,
 "nbformat_minor": 5
}
